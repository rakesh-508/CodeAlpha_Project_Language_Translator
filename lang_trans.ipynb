{
 "cells": [
  {
   "cell_type": "code",
   "execution_count": 1,
   "id": "c872e734",
   "metadata": {},
   "outputs": [
    {
     "name": "stdout",
     "output_type": "stream",
     "text": [
      "Requirement already satisfied: googletrans==4.0.0-rc1 in c:\\programdata\\anaconda3\\lib\\site-packages (4.0.0rc1)\n",
      "Requirement already satisfied: httpx==0.13.3 in c:\\programdata\\anaconda3\\lib\\site-packages (from googletrans==4.0.0-rc1) (0.13.3)\n",
      "Requirement already satisfied: certifi in c:\\programdata\\anaconda3\\lib\\site-packages (from httpx==0.13.3->googletrans==4.0.0-rc1) (2023.5.7)\n",
      "Requirement already satisfied: hstspreload in c:\\programdata\\anaconda3\\lib\\site-packages (from httpx==0.13.3->googletrans==4.0.0-rc1) (2023.1.1)\n",
      "Requirement already satisfied: sniffio in c:\\programdata\\anaconda3\\lib\\site-packages (from httpx==0.13.3->googletrans==4.0.0-rc1) (1.2.0)\n",
      "Requirement already satisfied: chardet==3.* in c:\\programdata\\anaconda3\\lib\\site-packages (from httpx==0.13.3->googletrans==4.0.0-rc1) (3.0.4)\n",
      "Requirement already satisfied: idna==2.* in c:\\programdata\\anaconda3\\lib\\site-packages (from httpx==0.13.3->googletrans==4.0.0-rc1) (2.10)\n",
      "Requirement already satisfied: rfc3986<2,>=1.3 in c:\\programdata\\anaconda3\\lib\\site-packages (from httpx==0.13.3->googletrans==4.0.0-rc1) (1.5.0)\n",
      "Requirement already satisfied: httpcore==0.9.* in c:\\programdata\\anaconda3\\lib\\site-packages (from httpx==0.13.3->googletrans==4.0.0-rc1) (0.9.1)\n",
      "Requirement already satisfied: h11<0.10,>=0.8 in c:\\programdata\\anaconda3\\lib\\site-packages (from httpcore==0.9.*->httpx==0.13.3->googletrans==4.0.0-rc1) (0.9.0)\n",
      "Requirement already satisfied: h2==3.* in c:\\programdata\\anaconda3\\lib\\site-packages (from httpcore==0.9.*->httpx==0.13.3->googletrans==4.0.0-rc1) (3.2.0)\n",
      "Requirement already satisfied: hyperframe<6,>=5.2.0 in c:\\programdata\\anaconda3\\lib\\site-packages (from h2==3.*->httpcore==0.9.*->httpx==0.13.3->googletrans==4.0.0-rc1) (5.2.0)\n",
      "Requirement already satisfied: hpack<4,>=3.0 in c:\\programdata\\anaconda3\\lib\\site-packages (from h2==3.*->httpcore==0.9.*->httpx==0.13.3->googletrans==4.0.0-rc1) (3.0.0)\n",
      "Note: you may need to restart the kernel to use updated packages.\n"
     ]
    }
   ],
   "source": [
    "pip install googletrans==4.0.0-rc1"
   ]
  },
  {
   "cell_type": "code",
   "execution_count": 1,
   "id": "6d0e2c80",
   "metadata": {},
   "outputs": [
    {
     "ename": "ModuleNotFoundError",
     "evalue": "No module named 'googletrans'",
     "output_type": "error",
     "traceback": [
      "\u001b[1;31m---------------------------------------------------------------------------\u001b[0m",
      "\u001b[1;31mModuleNotFoundError\u001b[0m                       Traceback (most recent call last)",
      "Cell \u001b[1;32mIn[1], line 1\u001b[0m\n\u001b[1;32m----> 1\u001b[0m \u001b[39mfrom\u001b[39;00m \u001b[39mgoogletrans\u001b[39;00m \u001b[39mimport\u001b[39;00m Translator,LANGUAGES\n\u001b[0;32m      2\u001b[0m \u001b[39mfrom\u001b[39;00m \u001b[39mtkinter\u001b[39;00m \u001b[39mimport\u001b[39;00m \u001b[39m*\u001b[39m\n\u001b[0;32m      3\u001b[0m \u001b[39mfrom\u001b[39;00m \u001b[39mtkinter\u001b[39;00m \u001b[39mimport\u001b[39;00m ttk\n",
      "\u001b[1;31mModuleNotFoundError\u001b[0m: No module named 'googletrans'"
     ]
    }
   ],
   "source": [
    "from googletrans import Translator,LANGUAGES\n",
    "from tkinter import *\n",
    "from tkinter import ttk\n",
    "root =Tk()\n",
    "from googletrans import Translator, LANGUAGES\n",
    "\n",
    "\n",
    "root.title(\"Translator\")\n",
    "root.geometry(\"500x800\")\n",
    "root.config(bg='#D7BBF5')\n",
    "lab_txt=Label(root,text=\"Translator\",font=(\"Time New Roman\",40,\"bold\"),bg=\"#D7BBF5\")\n",
    "lab_txt.place(x=100,y=40,height=50,width=300)\n",
    "\n",
    "frame = Frame(root).pack(side=BOTTOM)\n",
    "\n",
    "lab_txt=Label(root,text=\"Source text\",font=(\"Time New Roman\",20,\"bold\"),fg=\"Black\",bg=\"#D7BBF5\")\n",
    "lab_txt.place(x=100,y=100,height=20,width=300)\n",
    "\n",
    "Sor_txt = Text(frame,font=(\"Time New Roman\",20,\"bold\"),wrap=WORD)\n",
    "Sor_txt.place(x=10,y=130,height=150,width=480)\n",
    "\n",
    "\n",
    "list_text=list(LANGUAGES.values())\n",
    "\n",
    "comb_sor = ttk.Combobox(frame,value=list_text)\n",
    "comb_sor.place(x=10,y=300,height=40,width=150)\n",
    "comb_sor.set(\"english\")\n",
    "button_change = Button(frame,text=\"Translate\",relief=RAISED,command=data)\n",
    "button_change.place(x=170,y=300,height=40,width=150)\n",
    "\n",
    "comb_dest = ttk.Combobox(frame,value=list_text)\n",
    "comb_dest.place(x=330,y=300,height=40,width=150)\n",
    "comb_dest.set(\"english\")\n",
    "\n",
    "lab_txt=Label(root,text=\"Destination text\",font=(\"Time New Roman\",20,\"bold\"),fg=\"Black\",bg=\"#D7BBF5\")\n",
    "lab_txt.place(x=100,y=360,height=20,width=300)\n",
    "\n",
    "dest_txt = Text(frame,font=(\"Time New Roman\",20,\"bold\"),wrap=WORD)\n",
    "dest_txt.place(x=10,y=400,height=150,width=480)\n",
    "root.mainloop()"
   ]
  },
  {
   "cell_type": "code",
   "execution_count": 7,
   "id": "6fea296b",
   "metadata": {},
   "outputs": [],
   "source": [
    "def data():\n",
    "    s=comb_sor.get()\n",
    "    d=comb_dest.get()\n",
    "    masg = Sor_txt.get(1.0,END)\n",
    "    textget = change(text=masg,src=s,dest=d)\n",
    "    dest_txt.delete(1.0,END)\n",
    "    dest_txt.insert(END,textget)"
   ]
  },
  {
   "cell_type": "code",
   "execution_count": null,
   "id": "c049b3f5",
   "metadata": {},
   "outputs": [],
   "source": [
    "def change(text=\"type\",src=\"English\",dest=\"Hindi\"):\n",
    "    text1=text\n",
    "    src1=src\n",
    "    dest1=dest\n",
    "    trans= Translator()\n",
    "    trans1 = trans.translate(text,src=src1,dest=dest1)\n",
    "    return trans1.text\n"
   ]
  }
 ],
 "metadata": {
  "kernelspec": {
   "display_name": "Python 3 (ipykernel)",
   "language": "python",
   "name": "python3"
  },
  "language_info": {
   "codemirror_mode": {
    "name": "ipython",
    "version": 3
   },
   "file_extension": ".py",
   "mimetype": "text/x-python",
   "name": "python",
   "nbconvert_exporter": "python",
   "pygments_lexer": "ipython3",
   "version": "3.11.4"
  }
 },
 "nbformat": 4,
 "nbformat_minor": 5
}
